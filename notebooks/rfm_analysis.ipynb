{
 "cells": [
  {
   "cell_type": "markdown",
   "metadata": {},
   "source": [
    "# RFM Analysis & Clustering\n",
    "This notebook performs RFM analysis and clustering on customer data."
   ]
  },
  {
   "cell_type": "code",
   "execution_count": null,
   "metadata": {},
   "outputs": [],
   "source": [
    "import pandas as pd\n",
    "import numpy as np\n",
    "from sklearn.cluster import KMeans\n",
    "import psycopg2\n",
    "import plotly.express as px\n",
    "\n",
    "# Connect to PostgreSQL database\n",
    "conn = psycopg2.connect(\"dbname=yourdb user=youruser password=yourpass host=localhost\")\n",
    "\n",
    "# Extract RFM data\n",
    "df_rfm = pd.read_sql_query('''\n",
    "    SELECT customer_id, \n",
    "           EXTRACT(DAY FROM (NOW() - MAX(sale_date))) AS recency,\n",
    "           COUNT(DISTINCT invoice_no) AS frequency,\n",
    "           SUM(total_amount) AS monetary\n",
    "    FROM sales \n",
    "    GROUP BY customer_id;\n",
    "''', conn)\n",
    "\n",
    "# Normalize RFM values\n",
    "rfm_values = df_rfm[['recency', 'frequency', 'monetary']]\n",
    "rfm_values = (rfm_values - rfm_values.mean()) / rfm_values.std()\n",
    "\n",
    "# Perform K-Means clustering\n",
    "kmeans = KMeans(n_clusters=4, random_state=42)\n",
    "df_rfm['cluster'] = kmeans.fit_predict(rfm_values)\n",
    "\n",
    "# Close database connection\n",
    "conn.close()\n",
    "\n",
    "# Display the first few rows of the resulting DataFrame\n",
    "df_rfm.head()"
   ]
  },
  {
   "cell_type": "markdown",
   "metadata": {},
   "source": [
    "## Visualize Clusters\n",
    "Use Plotly to visualize the clusters in a 3D scatter plot."
   ]
  },
  {
   "cell_type": "code",
   "execution_count": null,
   "metadata": {},
   "outputs": [],
   "source": [
    "fig = px.scatter_3d(df_rfm, x='recency', y='frequency', z='monetary', color='cluster', title=\"Customer Segments\")\n",
    "fig.show()"
   ]
  }
 ],
 "metadata": {
  "language_info": {
   "name": "python"
  }
 },
 "nbformat": 4,
 "nbformat_minor": 2
}
